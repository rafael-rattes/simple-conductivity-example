{
 "cells": [
  {
   "cell_type": "markdown",
   "metadata": {},
   "source": [
    "# Perfil de temperatua unidimensional em uma barra\n",
    "Usando método dos volumes finitos"
   ]
  },
  {
   "cell_type": "markdown",
   "metadata": {},
   "source": [
    "- Condição de contorno\n",
    "   1. Taxa térmica constante na face esquerda ($q_{sup}''=1000\\frac{W}{m^2}$)\n",
    "   2. Temperatura de superfície constante na face direita ($T_{sup} = 20$)"
   ]
  },
  {
   "cell_type": "markdown",
   "metadata": {},
   "source": [
    "## Para os pontos internos\n",
    "\n",
    "\\begin{align}\n",
    "a_P T_P &= a_E T_E + a_W T_W + b\\\\\n",
    "a_E &= \\left. \\frac{kA}{\\Delta x} \\right|_e\\\\\n",
    "a_W &= \\left. \\frac{kA}{\\Delta x} \\right|_w\\\\\n",
    "a_P &= a_E + a_W - S_P A \\Delta x\\\\\n",
    "b &= S_C A \\Delta x\n",
    "\\end{align}"
   ]
  },
  {
   "attachments": {},
   "cell_type": "markdown",
   "metadata": {},
   "source": [
    "## Para os pontos internos\n",
    "\n",
    "### Face da esquerda\n",
    "\n",
    "\\begin{align}\n",
    "a_P T_P &= a_E T_E + b\\\\\n",
    "a_E &= \\left. \\frac{kA}{\\Delta x} \\right|_e\\\\\n",
    "a_P &= a_E - S_P A \\Delta x\\\\\n",
    "b &= S_C A \\Delta x + q''_{sup} A\n",
    "\\end{align}\n",
    "\n",
    "### Face da direita\n",
    "\n",
    "\\begin{align}\n",
    "a_P T_P &= a_E T_E + b\\\\\n",
    "a_E &= \\left. \\frac{kA}{\\Delta x} \\right|_e\\\\\n",
    "a_P &= a_E + \\left. \\frac{kA}{\\Delta x/2} \\right|_w - S_P A \\Delta x\\\\\n",
    "b &= S_C A \\Delta x + \\left. \\frac{kA}{\\Delta x/2} \\right|_w T_{pres}\n",
    "\\end{align}"
   ]
  },
  {
   "cell_type": "code",
   "execution_count": 2,
   "metadata": {},
   "outputs": [],
   "source": [
    "from numpy import array, matmul\n",
    "from numpy.linalg import inv"
   ]
  },
  {
   "cell_type": "code",
   "execution_count": 3,
   "metadata": {},
   "outputs": [],
   "source": [
    "# *Dados\n",
    "K = 1 #W/mK\n",
    "S = 0 #W/m3\n",
    "A = 1 #m2\n",
    "Q_SUP = 1000 #W/m2\n",
    "T_PRES = 20+273.15 #K\n",
    "DX = 0.04 #m"
   ]
  },
  {
   "cell_type": "code",
   "execution_count": 4,
   "metadata": {},
   "outputs": [],
   "source": [
    "coef_mtx = array(\n",
    "    [[K*A/DX, -K*A/DX, 0],\n",
    "     [-K*A/DX, 2*K*A/DX, -K*A/DX],\n",
    "     [0, -K*A/DX, K*A/DX + K*A/(DX/2)]]\n",
    ")\n",
    "\n",
    "rslt_mtx = array(\n",
    "    [[Q_SUP*A],\n",
    "     [0],\n",
    "     [K*A/(DX/2)*T_PRES]]\n",
    ")"
   ]
  },
  {
   "cell_type": "code",
   "execution_count": 5,
   "metadata": {},
   "outputs": [],
   "source": [
    "from seaborn import heatmap\n",
    "import matplotlib.pyplot as plt"
   ]
  },
  {
   "cell_type": "code",
   "execution_count": 6,
   "metadata": {},
   "outputs": [
    {
     "data": {
      "image/png": "[encoded data removed]",
      "text/plain": [
       "<Figure size 432x288 with 1 Axes>"
      ]
     },
     "metadata": {
      "needs_background": "light"
     },
     "output_type": "display_data"
    }
   ],
   "source": [
    "barra = (matmul(inv(coef_mtx), rslt_mtx) - 273.15).T\n",
    "heatmap(barra, cbar=False, annot=True, cmap='rocket_r')\n",
    "plt.gca().get_yaxis().set_visible(False)"
   ]
  },
  {
   "cell_type": "markdown",
   "metadata": {},
   "source": [
    "## Fazendo o problema para mais pontos"
   ]
  },
  {
   "cell_type": "code",
   "execution_count": 7,
   "metadata": {},
   "outputs": [],
   "source": [
    "import numpy as np"
   ]
  },
  {
   "cell_type": "code",
   "execution_count": 8,
   "metadata": {},
   "outputs": [],
   "source": [
    "# *Dados\n",
    "K = 1 #W/mK\n",
    "S = 0 #W/m3\n",
    "A = 1 #m2\n",
    "Q_SUP = 1000 #W/m2\n",
    "T_PRES = 20+273.15 #K\n",
    "DX = 0.12/7 #m"
   ]
  },
  {
   "cell_type": "code",
   "execution_count": 9,
   "metadata": {},
   "outputs": [],
   "source": [
    "coef_mtx = array(\n",
    "    [[K*A/DX, -K*A/DX, 0, 0, 0, 0, 0],\n",
    "     [-K*A/DX, 2*K*A/DX, -K*A/DX, 0, 0, 0, 0],\n",
    "     [0, -K*A/DX, 2*K*A/DX, -K*A/DX, 0, 0, 0],\n",
    "     [0, 0, -K*A/DX, 2*K*A/DX, -K*A/DX, 0, 0],\n",
    "     [0, 0, 0, -K*A/DX, 2*K*A/DX, -K*A/DX, 0],\n",
    "     [0, 0, 0, 0, -K*A/DX, 2*K*A/DX, -K*A/DX],\n",
    "     [0, 0, 0, 0, 0, -K*A/DX, K*A/DX + K*A/(DX/2)]]\n",
    ")\n",
    "\n",
    "rslt_mtx = array(\n",
    "    [[Q_SUP*A],\n",
    "     [0],\n",
    "     [0],\n",
    "     [0],\n",
    "     [0],\n",
    "     [0],\n",
    "     [K*A/(DX/2)*T_PRES]]\n",
    ")"
   ]
  },
  {
   "cell_type": "code",
   "execution_count": 12,
   "metadata": {},
   "outputs": [
    {
     "data": {
      "image/png": "[encoded data removed]",
      "text/plain": [
       "<Figure size 432x288 with 1 Axes>"
      ]
     },
     "metadata": {
      "needs_background": "light"
     },
     "output_type": "display_data"
    }
   ],
   "source": [
    "barra = (matmul(inv(coef_mtx), rslt_mtx) - 273.15).T\n",
    "heatmap(barra, cbar=False, annot=True, cmap='rocket_r')\n",
    "plt.gca().get_yaxis().set_visible(False)"
   ]
  },
  {
   "cell_type": "code",
   "execution_count": 11,
   "metadata": {},
   "outputs": [
    {
     "data": {
      "text/plain": [
       "array([[131.42857143],\n",
       "       [114.28571429],\n",
       "       [ 97.14285714],\n",
       "       [ 80.        ],\n",
       "       [ 62.85714286],\n",
       "       [ 45.71428571],\n",
       "       [ 28.57142857]])"
      ]
     },
     "execution_count": 11,
     "metadata": {},
     "output_type": "execute_result"
    }
   ],
   "source": [
    "barra"
   ]
  }
 ],
 "metadata": {
  "interpreter": {
   "hash": "b89250d00afb9449e3a64f47520eac70a636945bb4b41e9dd70ce3f40af3318a"
  },
  "kernelspec": {
   "display_name": "Python 3.8.13 ('base')",
   "language": "python",
   "name": "python3"
  },
  "language_info": {
   "codemirror_mode": {
    "name": "ipython",
    "version": 3
   },
   "file_extension": ".py",
   "mimetype": "text/x-python",
   "name": "python",
   "nbconvert_exporter": "python",
   "pygments_lexer": "ipython3",
   "version": "3.8.13"
  },
  "orig_nbformat": 4
 },
 "nbformat": 4,
 "nbformat_minor": 2
}
